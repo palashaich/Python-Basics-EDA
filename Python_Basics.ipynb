{
 "cells": [
  {
   "cell_type": "markdown",
   "metadata": {},
   "source": [
    "# Below code will help to get started with Python. There are many libraries and functions available. Once a person start with python using below code, he/she should be able to progress with the help of internet."
   ]
  },
  {
   "cell_type": "markdown",
   "metadata": {},
   "source": [
    "## String manipulation"
   ]
  },
  {
   "cell_type": "code",
   "execution_count": 17,
   "metadata": {},
   "outputs": [
    {
     "name": "stdout",
     "output_type": "stream",
     "text": [
      " I love coding in Python \n",
      "I love coding in Python \n",
      " I love coding in Python\n",
      "I love coding in Python\n",
      " I LOVE CODING IN PYTHON \n",
      " i love coding in python \n",
      "25\n"
     ]
    }
   ],
   "source": [
    "# Declare variable and assign values\n",
    "str = ' I love coding in Python '\n",
    "\n",
    "print(str)            # Print the variable ( I love coding in Python )\n",
    "print(str.lstrip())   # Remove white space from left (I love coding in Python )\n",
    "print(str.rstrip())   # Remove white space from right ( I love coding in Python)\n",
    "print(str.strip())    # Remove white space from both sides (I love coding in Python)\n",
    "print(str.upper())    # Make all upper case ( I LOVE CODING IN PYTHON )\n",
    "print(str.lower())    # Make all lower case ( i love coding in python )\n",
    "print(len(str))       # Length of variable (25)"
   ]
  },
  {
   "cell_type": "markdown",
   "metadata": {},
   "source": [
    "## Slicing in Python"
   ]
  },
  {
   "cell_type": "code",
   "execution_count": 22,
   "metadata": {},
   "outputs": [
    {
     "name": "stdout",
     "output_type": "stream",
     "text": [
      "I\n",
      "n\n",
      "love\n",
      "love\n",
      "I love coding\n",
      "nohtyP ni gnidoc evol I\n"
     ]
    }
   ],
   "source": [
    "# Declare variable and assign values\n",
    "str = 'I love coding in Python'\n",
    "\n",
    "print(str[0])        # Get the first character (I)\n",
    "print(str[-1])       # Get the last character (n)\n",
    "\n",
    "print(str[2:6])       # Get charcaters 2 to 5. The possition 6 is not inclusive. (love)\n",
    "print(str[-21:-17])   # Start from backward. Here it is from -21. (love)\n",
    "print(str[:13])       # Read from beginning till a particular position. (I love coding)\n",
    "\n",
    "print(str[::-1])      # Reverse a string. From the end and one step from end. (nohtyP ni gnidoc evol I)"
   ]
  },
  {
   "cell_type": "markdown",
   "metadata": {},
   "source": [
    "## Arithmetic operators"
   ]
  },
  {
   "cell_type": "code",
   "execution_count": 26,
   "metadata": {},
   "outputs": [
    {
     "name": "stdout",
     "output_type": "stream",
     "text": [
      "x + y =  5\n",
      "x - y =  1\n",
      "x * y =  6\n",
      "x / y =  1.5\n",
      "x % y =  1\n",
      "x // y =  1\n",
      "x ** y =  9\n"
     ]
    }
   ],
   "source": [
    "# We can declare 2 variable and assign at the same time\n",
    "x, y = 3, 2                  # x = 3 and y = 2 \n",
    "\n",
    "print('x + y = ', x + y)     # x + y =  5\n",
    "print('x - y = ', x - y)     # x + y =  1\n",
    "print('x * y = ', x * y)     # x * y =  6\n",
    "print('x / y = ', x / y)     # x / y =  1.5\n",
    "print('x % y = ', x % y)     # x % y =  1\n",
    "print('x // y = ', x // y)   # x // y =  1 # Floor division - Excludes decimals\n",
    "print('x ** y = ', x ** y)   # x ** y =  9 # Exponent - left operand raised to the power of right"
   ]
  },
  {
   "cell_type": "markdown",
   "metadata": {},
   "source": [
    "## List in Python"
   ]
  },
  {
   "cell_type": "code",
   "execution_count": 45,
   "metadata": {},
   "outputs": [
    {
     "name": "stdout",
     "output_type": "stream",
     "text": [
      "[]\n",
      "['Lion', 'Dog', 'Cat', 9.5, 15]\n",
      "Lion\n",
      "15\n",
      "['Dog', 'Cat']\n",
      "15\n",
      "['Lion', 'Dog', 'Cat', 9.5]\n",
      "['Lion', 'Dog', 'Cat', 9.5, 'Panda']\n",
      "['Lion', 'Dog', 'Cat', 'Panda']\n",
      "Lion Dog Cat Panda\n",
      "['Lion', 'Dog', 'Cat', 'Panda']\n",
      "[2, 4, 6, 8]\n"
     ]
    }
   ],
   "source": [
    "my_empty_list = []            # We can declare an empty list\n",
    "print(my_empty_list)          # []\n",
    "\n",
    "my_list = [ 'Lion' , 'Dog' , 'Cat' , 9.5 , 15] # List can have multiple data types\n",
    "print(my_list)\n",
    "\n",
    "print(my_list[0])             # First element in the list (Lion)\n",
    "print(my_list[-1])            # Last element in the list (15)\n",
    "print(my_list[1:3])           # ['Dog', 'Cat']\n",
    "print(my_list.pop())          # pop removes last element if no index is specified\n",
    "print(my_list)                # 15 is removed from the list (['Lion', 'Dog', 'Cat', 9.5])\n",
    "\n",
    "my_list.append( 'Panda' )     # Adding an element to the list \n",
    "print(my_list)                # ['Lion', 'Dog', 'Cat', 9.5, 'Panda']\n",
    "\n",
    "my_list.remove( 9.5 )         # we can use remove to remove an element.\n",
    "print(my_list)                # ['Lion', 'Dog', 'Cat', 'Panda']\n",
    "\n",
    "str_from_list = \" \".join(my_list) # We can build a string using all list items\n",
    "print(str_from_list)          # Lion Dog Cat Panda\n",
    "\n",
    "# List Comprehension\n",
    "\n",
    "list_of_words = [word for word in str_from_list.split()] # Instead of writing loop, we can use one line.\n",
    "print(list_of_words)          # ['Lion', 'Dog', 'Cat', 'Panda']\n",
    "\n",
    "even_number = [x for x in range(1,10) if x % 2 == 0] # Even number between 1 to 8. 10 is not inclusive.\n",
    "print(even_number)           # [2, 4, 6, 8]"
   ]
  },
  {
   "cell_type": "markdown",
   "metadata": {},
   "source": [
    "## Dictionary in Python"
   ]
  },
  {
   "cell_type": "code",
   "execution_count": 47,
   "metadata": {},
   "outputs": [
    {
     "name": "stdout",
     "output_type": "stream",
     "text": [
      "{'Name': 'Palash Aich', 'Age': 35, 'Hobby': 'Travel'}\n",
      "Palash Aich\n",
      "{'Name': 'Palash Aich', 'Age': 35, 'Hobby': 'Travel', 'Profession': 'Data Scientist'}\n",
      "dict_keys(['Name', 'Age', 'Hobby', 'Profession'])\n",
      "dict_values(['Palash Aich', 35, 'Travel', 'Data Scientist'])\n",
      "{'Name': 'Palash Aich', 'Hobby': 'Travel', 'Profession': 'Data Scientist'}\n"
     ]
    }
   ],
   "source": [
    "my_dict = {'Name' : 'Palash Aich' , 'Age' : 35, 'Hobby' : 'Travel'}\n",
    "print(my_dict)            # {'Name': 'Palash Aich', 'Age': 35, 'Hobby': 'Travel'}\n",
    "\n",
    "print(my_dict['Name'])    # Palash Aich\n",
    "\n",
    "my_dict['Profession' ] = 'Data Scientist' # Adding an element\n",
    "print(my_dict)            # {'Name': 'Palash Aich', 'Age': 35, 'Hobby': 'Travel', 'Profession': 'Data Scientist'}\n",
    "\n",
    "print(my_dict.keys())     # ['Name', 'Age', 'Hobby', 'Profession']\n",
    "print(my_dict.values())   # ['Palash Aich', 35, 'Travel', 'Data Scientist']\n",
    "\n",
    "del my_dict['Age']        # Deleting an element\n",
    "print(my_dict)            # {'Name': 'Palash Aich', 'Hobby': 'Travel', 'Profession': 'Data Scientist'}"
   ]
  },
  {
   "cell_type": "markdown",
   "metadata": {},
   "source": [
    "## Set and Tuple in Python"
   ]
  },
  {
   "cell_type": "code",
   "execution_count": 53,
   "metadata": {},
   "outputs": [
    {
     "name": "stdout",
     "output_type": "stream",
     "text": [
      "{'Lion', 'Cat', 'Dog'}\n",
      "{'Panda', 'Lion', 'Cat'}\n",
      "{'Lion', 'Cat'}\n",
      "{'Lion', 'Cat', 'Panda', 'Dog'}\n",
      "{'Dog'}\n",
      "()\n",
      "('Lion', 'Panda', 'Cat', 'Panda')\n"
     ]
    }
   ],
   "source": [
    "my_set_1 = set(['Lion', 'Dog', 'Cat', 'Dog']) # set contains only unique elements\n",
    "print(my_set_1)     # {'Lion', 'Cat', 'Dog'}\n",
    "\n",
    "my_set_2 = set(['Lion', 'Panda', 'Cat', 'Panda']) \n",
    "print(my_set_2) # {'Panda', 'Lion', 'Cat'}\n",
    "\n",
    "print(my_set_1.intersection(my_set_2))    # Common elements in 2 sets {'Lion', 'Cat'}\n",
    "print(my_set_1.union(my_set_2))           # Unique list from 2 sets {'Lion', 'Cat', 'Panda', 'Dog'}\n",
    "print(my_set_1.difference(my_set_2))      # set1 - set2. {'Dog'}\n",
    "\n",
    "# Tuple\n",
    "\n",
    "my_tuple = ()      # Empty Tuple\n",
    "print(my_tuple)    # ()\n",
    "\n",
    "my_tuple = ('Lion', 'Panda', 'Cat', 'Panda')\n",
    "print(my_tuple)    # ('Lion', 'Panda', 'Cat', 'Panda')"
   ]
  },
  {
   "cell_type": "markdown",
   "metadata": {},
   "source": [
    "## Functions in Python"
   ]
  },
  {
   "cell_type": "code",
   "execution_count": 55,
   "metadata": {},
   "outputs": [
    {
     "name": "stdout",
     "output_type": "stream",
     "text": [
      "5\n",
      " Factorial is:  6\n"
     ]
    }
   ],
   "source": [
    "def my_addition(x, y):    # Declare the function\n",
    "    return x + y          # Return values from function\n",
    "\n",
    "print(my_addition(2,3))   # Call the function\n",
    "\n",
    "\n",
    "##### Recursive function ####\n",
    "# Finding n factorial\n",
    "\n",
    "def factorial (n):\n",
    "    if n > 1:\n",
    "        return n * factorial(n - 1)\n",
    "    else:\n",
    "        return n\n",
    "\n",
    "print(\" Factorial is: \", factorial(3)) # Call the function for the value 3"
   ]
  },
  {
   "cell_type": "markdown",
   "metadata": {},
   "source": [
    "### Numpy - useful library in python for data science"
   ]
  },
  {
   "cell_type": "code",
   "execution_count": 69,
   "metadata": {},
   "outputs": [
    {
     "name": "stdout",
     "output_type": "stream",
     "text": [
      "[1 2 3 4 5 6]\n",
      "[[1 2 3]\n",
      " [4 5 6]]\n",
      "[0 0 0 0]\n",
      "[[1. 1. 1.]\n",
      " [1. 1. 1.]\n",
      " [1. 1. 1.]\n",
      " [1. 1. 1.]]\n",
      "[ 0  5 10 15 20]\n",
      "\n",
      "\n",
      "[[ 1  2  3  4  5]\n",
      " [ 6  7  8  9 10]\n",
      " [11 12 13 14 15]\n",
      " [16 17 18 19 20]]\n",
      "(4, 5)\n",
      "7\n",
      "[ 2  7 12 17]\n",
      "[[ 1  2]\n",
      " [ 6  7]\n",
      " [11 12]\n",
      " [16 17]]\n"
     ]
    }
   ],
   "source": [
    "# Let's understand how to use library in python\n",
    "# import numpy library. You may need to install it using [pip install numpy] command in command prompt.\n",
    "\n",
    "import numpy as np    # np is alias\n",
    "\n",
    "print(np.array([1, 2, 3, 4, 5, 6]))       # One dimensional array\n",
    "print(np.array([[1, 2, 3], [4, 5, 6]]))   # Two dimensional array\n",
    "\n",
    "print(np.zeros(4, dtype = np.int))        # Array of zeros with integer data type\n",
    "print(np.ones((4, 3)))                    # Array of 4 rows and 3 columns with all ones 4 X 3.\n",
    "      \n",
    "print(np.arange(0, 25, 5))                # Array of numbers from 0 to 20 with a step of 5\n",
    "\n",
    "print('\\n')       # New line\n",
    "# Array Slicing\n",
    "my_array = np.arange(1, 21).reshape(4,5)  # An array consists of 1 to 20 in 4 X 5 dimension\n",
    "print(my_array)\n",
    "print(my_array.shape)        # Shape of the array (4, 5)\n",
    "print(my_array[1, 1])        # Slice 2nd row and 2nd column\n",
    "print(my_array[:, 1])        # Slice all rows and 2nd column\n",
    "print(my_array[:, :2])       # Slice all rows and first 2 columns"
   ]
  },
  {
   "cell_type": "markdown",
   "metadata": {},
   "source": [
    "## Pandas - usefull library in python for data science"
   ]
  },
  {
   "cell_type": "code",
   "execution_count": 77,
   "metadata": {},
   "outputs": [
    {
     "name": "stdout",
     "output_type": "stream",
     "text": [
      "0    1\n",
      "1    2\n",
      "2    3\n",
      "3    4\n",
      "4    5\n",
      "dtype: int64\n",
      "f    0\n",
      "s    1\n",
      "t    2\n",
      "dtype: int64\n",
      "     name  age      occupation\n",
      "0  Palash   30  Data Scientist\n",
      "1   Samar   25   Data Engineer\n",
      "2   Keshu    9    NLP Engineer\n",
      "\n",
      "Sorting in dataframe\n",
      "\n",
      "        age      occupation\n",
      "name                       \n",
      "Keshu     9    NLP Engineer\n",
      "Dristi    8     ML Engineer\n",
      "Palash   30  Data Scientist\n",
      "Samar    25   Data Engineer\n",
      "<class 'pandas.core.frame.DataFrame'>\n",
      "Index: 4 entries, Keshu to Samar\n",
      "Data columns (total 2 columns):\n",
      " #   Column      Non-Null Count  Dtype \n",
      "---  ------      --------------  ----- \n",
      " 0   age         4 non-null      int64 \n",
      " 1   occupation  4 non-null      object\n",
      "dtypes: int64(1), object(1)\n",
      "memory usage: 96.0+ bytes\n",
      "None\n",
      "             age\n",
      "count   4.000000\n",
      "mean   18.000000\n",
      "std    11.165423\n",
      "min     8.000000\n",
      "25%     8.750000\n",
      "50%    17.000000\n",
      "75%    26.250000\n",
      "max    30.000000\n",
      "\n",
      "Columns in dataframe\n",
      "\n",
      "Index(['age', 'occupation'], dtype='object')\n",
      "name\n",
      "Keshu       NLP Engineer\n",
      "Dristi       ML Engineer\n",
      "Palash    Data Scientist\n",
      "Samar      Data Engineer\n",
      "Name: occupation, dtype: object\n",
      "        age      occupation\n",
      "name                       \n",
      "Keshu     9    NLP Engineer\n",
      "Dristi    8     ML Engineer\n",
      "Palash   30  Data Scientist\n",
      "Samar    25   Data Engineer\n",
      "        age      occupation\n",
      "name                       \n",
      "Dristi    8     ML Engineer\n",
      "Palash   30  Data Scientist\n",
      "        age     occupation\n",
      "name                      \n",
      "Dristi    8    ML Engineer\n",
      "Samar    25  Data Engineer\n",
      "\n",
      "Index based slicing\n"
     ]
    },
    {
     "data": {
      "text/plain": [
       "age                     8\n",
       "occupation    ML Engineer\n",
       "Name: Dristi, dtype: object"
      ]
     },
     "execution_count": 77,
     "metadata": {},
     "output_type": "execute_result"
    }
   ],
   "source": [
    "import pandas as pd     # Import library\n",
    "\n",
    "print(pd.Series([1, 2, 3, 4, 5]))     # Series in pandas\n",
    "\n",
    "print(pd.Series([0, 1, 2], index = [ 'f' , 's' , 't' ]))    # Series with setting index\n",
    "\n",
    "# Dataframe in pandas that consists row and column\n",
    "df = pd.DataFrame({ 'name' : [ 'Palash' , 'Samar' , 'Keshu' , 'Dristi' ], 'age' : [30, 25, 9,\n",
    "8], 'occupation' : [ 'Data Scientist' , 'Data Engineer' , 'NLP Engineer' , 'ML Engineer' ]})\n",
    "\n",
    "print(df.head(3))  # print first 3 rows from dataframe df\n",
    "\n",
    "# A pandas dataframe by importing files\n",
    "#df = pd.read_csv( 'path/my_file.csv' )\n",
    "\n",
    "df.set_index( 'name', inplace = True )               # set name as index\n",
    "df.sort_index(axis = 0, ascending = False )          # sort by index\n",
    "df.sort_values(by = 'occupation', ascending = False, inplace = True) # sort by occupation in descending order\n",
    "print('\\nSorting in dataframe\\n')\n",
    "print(df)\n",
    "\n",
    "# Get details from a dataframe\n",
    "print(df.info())         # Get metadata summary\n",
    "print(df.describe())     # Get statistical summary\n",
    "\n",
    "print('\\nColumns in dataframe\\n')\n",
    "print(df.columns)        # Get column name in a daraframe columns\n",
    "\n",
    "# Slicing a dataframe\n",
    "print(df['occupation'])           # Get values of name column\n",
    "print(df[['age', 'occupation']])  # Get values of name and occupation column\n",
    "\n",
    "print(df[1:3])                  # 2nd and third row in the dataframe\n",
    "print(df[1::2])                 # Alternate rows from index 5\n",
    "\n",
    "# Index based slicing\n",
    "print('\\nIndex based slicing')\n",
    "df.iloc[0, 1]         # Element in 3rd row and 2nd column\n",
    "df.iloc[1]            # All columns of 2nd row\n"
   ]
  },
  {
   "cell_type": "markdown",
   "metadata": {},
   "source": [
    "## More on pandas data frame"
   ]
  },
  {
   "cell_type": "code",
   "execution_count": 88,
   "metadata": {},
   "outputs": [
    {
     "name": "stdout",
     "output_type": "stream",
     "text": [
      "     name  age      occupation  salary   region\n",
      "0  Palash   30  Data Scientist    3000     APAC\n",
      "1   Samar   25   Data Engineer    2500  AMERICA\n",
      "2   Keshu   22    NLP Engineer    9000     EMEA\n",
      "3  Dristi   29   Data Engineer    8000     APAC\n",
      "\n",
      "Concatenate dataframe\n",
      "\n",
      "     name  age      occupation  salary    name   region\n",
      "0  Palash   30  Data Scientist    3000  Palash     APAC\n",
      "1   Samar   25   Data Engineer    2500   Samar  AMERICA\n",
      "2   Keshu   22    NLP Engineer    9000   Keshu     EMEA\n",
      "3  Dristi   29   Data Engineer    8000  Dristi     APAC\n",
      "\n",
      "Column update in dataframe\n",
      "\n",
      "     name  age      occupation  salary  salary_in_thousand\n",
      "0  Palash   30  Data Scientist    3000                 3.0\n",
      "1   Samar   25   Data Engineer    2500                 2.5\n",
      "2   Keshu   22    NLP Engineer    9000                 9.0\n",
      "3  Dristi   29   Data Engineer    8000                 8.0\n",
      "\n",
      "Aggregate data \n",
      "\n",
      "occupation\n",
      "Data Engineer     10500\n",
      "Data Scientist     3000\n",
      "NLP Engineer       9000\n",
      "Name: salary, dtype: int64\n",
      "\n",
      "Pivoting dataframe\n",
      "\n",
      "region          AMERICA    APAC    EMEA\n",
      "occupation                             \n",
      "Data Engineer    2500.0  8000.0     NaN\n",
      "Data Scientist      NaN  3000.0     NaN\n",
      "NLP Engineer        NaN     NaN  9000.0\n"
     ]
    }
   ],
   "source": [
    "df = pd.DataFrame({ 'name' : ['Palash' , 'Samar' , 'Keshu' , 'Dristi'], \n",
    "                   'age' : [30, 25, 22, 29], \n",
    "                   'occupation' : [ 'Data Scientist' , 'Data Engineer' , 'NLP Engineer' , 'Data Engineer'],\n",
    "                   'salary' : [3000, 2500, 9000, 8000]})\n",
    "\n",
    "df1 = pd.DataFrame({'name' : ['Palash' , 'Samar' , 'Keshu' , 'Dristi'], \n",
    "                   'region' : [ 'APAC' , 'AMERICA' , 'EMEA' , 'APAC']})\n",
    "\n",
    "# Join 2 dataframe based on a common column\n",
    "df_merged = pd.merge(df, df1, how = 'inner', on = [ 'name' , 'name'])\n",
    "print(df_merged)\n",
    "\n",
    "# Concatenate dataframes one below other\n",
    "print('\\nConcatenate dataframe\\n')\n",
    "print(pd.concat([df, df1], axis = 1)) # axis 0 is rows and 1 is column\n",
    "\n",
    "# Add a new column in a dataframe\n",
    "print('\\nColumn update in dataframe\\n')\n",
    "df[ 'salary_in_thousand' ] = df.salary / 1000\n",
    "print(df)\n",
    "\n",
    "# Aggregate data\n",
    "print('\\nAggregate data \\n')\n",
    "print(df.groupby(['occupation'])['salary'].sum())\n",
    "\n",
    "# applying an operation to a column\n",
    "print('\\nPivoting dataframe\\n')\n",
    "print(df_merged.pivot_table(values = 'salary', index = 'occupation', columns ='region', aggfunc = 'sum'))"
   ]
  },
  {
   "cell_type": "markdown",
   "metadata": {},
   "source": [
    "## Data visualization in Python"
   ]
  },
  {
   "cell_type": "code",
   "execution_count": 105,
   "metadata": {},
   "outputs": [
    {
     "data": {
      "image/png": "[encoded data removed]",
      "text/plain": [
       "<Figure size 432x288 with 1 Axes>"
      ]
     },
     "metadata": {
      "needs_background": "light"
     },
     "output_type": "display_data"
    },
    {
     "name": "stdout",
     "output_type": "stream",
     "text": [
      "\n",
      "**** Seaborn Library ****\n",
      "\n"
     ]
    },
    {
     "data": {
      "image/png": "[encoded data removed]",
      "text/plain": [
       "<Figure size 432x288 with 1 Axes>"
      ]
     },
     "metadata": {
      "needs_background": "light"
     },
     "output_type": "display_data"
    }
   ],
   "source": [
    "# There are many libraries. Popular among them are matplotlib and seaborn\n",
    "\n",
    "import matplotlib.pyplot as plt\n",
    "\n",
    "df = pd.DataFrame({ 'name' : ['Palash' , 'Samar' , 'Keshu' , 'Dristi'], \n",
    "                   'age' : [30, 25, 22, 29], \n",
    "                   'occupation' : [ 'Data Scientist' , 'Data Engineer' , 'NLP Engineer' , 'Data Engineer'],\n",
    "                   'salary' : [3000, 2500, 9000, 8000]})\n",
    "\n",
    "plt.figure(figsize=(6,4))    # Setup image size\n",
    "plt.barh(df.occupation, df.salary, color = 'blue', height = 0.4) \n",
    "plt.show()\n",
    "\n",
    "print('\\n**** Seaborn Library ****\\n')\n",
    "\n",
    "import seaborn as sns\n",
    "\n",
    "df = pd.DataFrame({ 'name' : ['Palash' , 'Samar' , 'Keshu' , 'Dristi'], \n",
    "                   'age' : [30, 25, 22, 29], \n",
    "                   'occupation' : [ 'Data Scientist' , 'Data Engineer' , 'NLP Engineer' , 'Data Engineer'],\n",
    "                   'salary' : [3000, 2500, 9000, 8000]})\n",
    "\n",
    "plt.figure(figsize=(6,4))    # Setup image size\n",
    "sns.barplot(df.occupation, df.salary)\n",
    "plt.show()"
   ]
  }
 ],
 "metadata": {
  "kernelspec": {
   "display_name": "Python 3",
   "language": "python",
   "name": "python3"
  },
  "language_info": {
   "codemirror_mode": {
    "name": "ipython",
    "version": 3
   },
   "file_extension": ".py",
   "mimetype": "text/x-python",
   "name": "python",
   "nbconvert_exporter": "python",
   "pygments_lexer": "ipython3",
   "version": "3.7.2"
  }
 },
 "nbformat": 4,
 "nbformat_minor": 4
}
